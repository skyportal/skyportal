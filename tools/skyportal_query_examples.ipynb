{
 "cells": [
  {
   "cell_type": "code",
   "execution_count": null,
   "id": "ffc828a6",
   "metadata": {},
   "outputs": [],
   "source": [
    "import requests\n",
    "import urllib"
   ]
  },
  {
   "cell_type": "markdown",
   "id": "b131a83e",
   "metadata": {},
   "source": [
    "# Input API token and host"
   ]
  },
  {
   "cell_type": "code",
   "execution_count": null,
   "id": "c5ce4fa9",
   "metadata": {},
   "outputs": [],
   "source": [
    "host = \"http://localhost:5000\""
   ]
  },
  {
   "cell_type": "code",
   "execution_count": null,
   "id": "4696cfb1",
   "metadata": {},
   "outputs": [],
   "source": [
    "api_token = \"\""
   ]
  },
  {
   "cell_type": "code",
   "execution_count": null,
   "id": "14515539",
   "metadata": {},
   "outputs": [],
   "source": [
    "headers = {'Authorization': f'token {api_token}'}"
   ]
  },
  {
   "cell_type": "markdown",
   "id": "56f96c9c",
   "metadata": {},
   "source": [
    "# Input endpoint"
   ]
  },
  {
   "cell_type": "code",
   "execution_count": null,
   "id": "3714175e",
   "metadata": {},
   "outputs": [],
   "source": [
    "endpoint = \"telescope\""
   ]
  },
  {
   "cell_type": "code",
   "execution_count": null,
   "id": "d074ed59",
   "metadata": {},
   "outputs": [],
   "source": [
    "url = urllib.parse.urljoin(host, f'/api/{endpoint}')"
   ]
  },
  {
   "cell_type": "markdown",
   "id": "91ac58de",
   "metadata": {},
   "source": [
    "# Post Example"
   ]
  },
  {
   "cell_type": "code",
   "execution_count": null,
   "id": "6ddd8634",
   "metadata": {},
   "outputs": [],
   "source": [
    "post_data = {\n",
    "    'name': \"My Telescope\",\n",
    "    'nickname': \"my_tele\",\n",
    "    'lat': 30.0,\n",
    "    'lon': 60.0,\n",
    "    'elevation': 1000.0,\n",
    "    'diameter': 10.0,\n",
    "    'robotic': True,\n",
    "}\n",
    "r = requests.post(url, headers=headers, json=post_data)\n",
    "print(r.json())\n",
    "telescope_id_1 = r.json()['data']['id']"
   ]
  },
  {
   "cell_type": "code",
   "execution_count": null,
   "id": "947d5e25",
   "metadata": {},
   "outputs": [],
   "source": [
    "post_data = {\n",
    "    'name': \"My Other Telescope\",\n",
    "    'nickname': \"other_tele\",\n",
    "    'lat': -30.0,\n",
    "    'lon': -60.0,\n",
    "    'elevation': 1000.0,\n",
    "    'diameter': 10.0,\n",
    "    'robotic': True,\n",
    "}\n",
    "r = requests.post(url, headers=headers, json=post_data)\n",
    "print(r.json())\n",
    "telescope_id_2 = r.json()['data']['id']"
   ]
  },
  {
   "cell_type": "markdown",
   "id": "40b4ceb2",
   "metadata": {},
   "source": [
    "# Get Example"
   ]
  },
  {
   "cell_type": "code",
   "execution_count": null,
   "id": "f2cfde10",
   "metadata": {},
   "outputs": [],
   "source": [
    "r = requests.get(url, headers=headers)\n",
    "print(r.json())"
   ]
  },
  {
   "cell_type": "code",
   "execution_count": null,
   "id": "31f17230",
   "metadata": {},
   "outputs": [],
   "source": [
    "params = {\n",
    "    \"latitudeMin\": -45.0,\n",
    "    \"latitudeMax\": -15.0,\n",
    "    \"longitudeMin\": -75.0,\n",
    "    \"longitudeMax\": -45.0,\n",
    "}\n",
    "\n",
    "r = requests.get(url, headers=headers, params=params)\n",
    "print(r.json())"
   ]
  },
  {
   "cell_type": "markdown",
   "id": "83390881",
   "metadata": {},
   "source": [
    "# Delete Example"
   ]
  },
  {
   "cell_type": "code",
   "execution_count": null,
   "id": "9396668d",
   "metadata": {},
   "outputs": [],
   "source": [
    "delete_url = urllib.parse.urljoin(host, f'/api/{endpoint}/{telescope_id_1}')"
   ]
  },
  {
   "cell_type": "code",
   "execution_count": null,
   "id": "75457a70",
   "metadata": {},
   "outputs": [],
   "source": [
    "r = requests.delete(delete_url, headers=headers)\n",
    "print(r.json())"
   ]
  },
  {
   "cell_type": "code",
   "execution_count": null,
   "id": "ef9a15f5",
   "metadata": {},
   "outputs": [],
   "source": [
    "params = {\n",
    "    \"latitudeMin\": -45.0,\n",
    "    \"latitudeMax\": -15.0,\n",
    "    \"longitudeMin\": -75.0,\n",
    "    \"longitudeMax\": -45.0,\n",
    "}\n",
    "\n",
    "r = requests.get(url, headers=headers, params=params)\n",
    "print(r.json())"
   ]
  },
  {
   "cell_type": "markdown",
   "id": "ffab6961",
   "metadata": {},
   "source": [
    "Our new telescope is now gone."
   ]
  }
 ],
 "metadata": {
  "kernelspec": {
   "display_name": "Python 3 (ipykernel)",
   "language": "python",
   "name": "python3"
  },
  "language_info": {
   "codemirror_mode": {
    "name": "ipython",
    "version": 3
   },
   "file_extension": ".py",
   "mimetype": "text/x-python",
   "name": "python",
   "nbconvert_exporter": "python",
   "pygments_lexer": "ipython3",
   "version": "3.9.7"
  }
 },
 "nbformat": 4,
 "nbformat_minor": 5
}
